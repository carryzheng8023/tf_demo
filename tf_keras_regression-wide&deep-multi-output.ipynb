{
 "cells": [
  {
   "cell_type": "code",
   "execution_count": 1,
   "metadata": {},
   "outputs": [
    {
     "name": "stdout",
     "output_type": "stream",
     "text": [
      "sys.version_info(major=3, minor=7, micro=3, releaselevel='final', serial=0)\n",
      "matplotlib 3.0.3\n",
      "numpy 1.16.2\n",
      "pandas 0.24.2\n",
      "sklearn 0.21.1\n",
      "tensorflow 2.0.0-alpha0\n",
      "tensorflow.python.keras.api._v2.keras 2.2.4-tf\n"
     ]
    }
   ],
   "source": [
    "import matplotlib as mpl\n",
    "import matplotlib.pyplot as plt\n",
    "%matplotlib inline\n",
    "import numpy as np\n",
    "import sklearn\n",
    "import pandas as pd\n",
    "import os\n",
    "import sys\n",
    "import time\n",
    "import tensorflow as tf\n",
    "from tensorflow import keras\n",
    "# import keras\n",
    "\n",
    "print(sys.version_info)\n",
    "for module in mpl, np, pd, sklearn, tf, keras:\n",
    "    print(module.__name__, module.__version__)"
   ]
  },
  {
   "cell_type": "code",
   "execution_count": 2,
   "metadata": {},
   "outputs": [],
   "source": [
    "from sklearn import datasets"
   ]
  },
  {
   "cell_type": "code",
   "execution_count": 3,
   "metadata": {},
   "outputs": [
    {
     "name": "stdout",
     "output_type": "stream",
     "text": [
      ".. _california_housing_dataset:\n",
      "\n",
      "California Housing dataset\n",
      "--------------------------\n",
      "\n",
      "**Data Set Characteristics:**\n",
      "\n",
      "    :Number of Instances: 20640\n",
      "\n",
      "    :Number of Attributes: 8 numeric, predictive attributes and the target\n",
      "\n",
      "    :Attribute Information:\n",
      "        - MedInc        median income in block\n",
      "        - HouseAge      median house age in block\n",
      "        - AveRooms      average number of rooms\n",
      "        - AveBedrms     average number of bedrooms\n",
      "        - Population    block population\n",
      "        - AveOccup      average house occupancy\n",
      "        - Latitude      house block latitude\n",
      "        - Longitude     house block longitude\n",
      "\n",
      "    :Missing Attribute Values: None\n",
      "\n",
      "This dataset was obtained from the StatLib repository.\n",
      "http://lib.stat.cmu.edu/datasets/\n",
      "\n",
      "The target variable is the median house value for California districts.\n",
      "\n",
      "This dataset was derived from the 1990 U.S. census, using one row per census\n",
      "block group. A block group is the smallest geographical unit for which the U.S.\n",
      "Census Bureau publishes sample data (a block group typically has a population\n",
      "of 600 to 3,000 people).\n",
      "\n",
      "It can be downloaded/loaded using the\n",
      ":func:`sklearn.datasets.fetch_california_housing` function.\n",
      "\n",
      ".. topic:: References\n",
      "\n",
      "    - Pace, R. Kelley and Ronald Barry, Sparse Spatial Autoregressions,\n",
      "      Statistics and Probability Letters, 33 (1997) 291-297\n",
      "\n",
      "(20640, 8)\n",
      "(20640,)\n"
     ]
    }
   ],
   "source": [
    "housing = datasets.fetch_california_housing()\n",
    "print(housing.DESCR)\n",
    "print(housing.data.shape)\n",
    "print(housing.target.shape)"
   ]
  },
  {
   "cell_type": "code",
   "execution_count": 4,
   "metadata": {},
   "outputs": [
    {
     "name": "stdout",
     "output_type": "stream",
     "text": [
      "(11610, 8) (11610,)\n",
      "(3870, 8) (3870,)\n",
      "(5160, 8) (5160,)\n"
     ]
    }
   ],
   "source": [
    "from sklearn.model_selection import train_test_split\n",
    "\n",
    "x_train_all, x_test, y_train_all, y_test = train_test_split(housing.data, housing.target, random_state=21)\n",
    "x_train, x_valid, y_train, y_valid = train_test_split(x_train_all, y_train_all, random_state=34)\n",
    "print(x_train.shape, y_train.shape)\n",
    "print(x_valid.shape, y_valid.shape)\n",
    "print(x_test.shape, y_test.shape)"
   ]
  },
  {
   "cell_type": "code",
   "execution_count": 5,
   "metadata": {},
   "outputs": [],
   "source": [
    "from sklearn.preprocessing import StandardScaler\n",
    "\n",
    "scaler = StandardScaler()\n",
    "x_train_scaled = scaler.fit_transform(x_train)\n",
    "x_valid_scaled = scaler.transform(x_valid)\n",
    "x_test_scaled = scaler.transform(x_test)"
   ]
  },
  {
   "cell_type": "code",
   "execution_count": 6,
   "metadata": {},
   "outputs": [
    {
     "name": "stdout",
     "output_type": "stream",
     "text": [
      "Model: \"model\"\n",
      "__________________________________________________________________________________________________\n",
      "Layer (type)                    Output Shape         Param #     Connected to                     \n",
      "==================================================================================================\n",
      "input_2 (InputLayer)            [(None, 6)]          0                                            \n",
      "__________________________________________________________________________________________________\n",
      "dense (Dense)                   (None, 30)           210         input_2[0][0]                    \n",
      "__________________________________________________________________________________________________\n",
      "input_1 (InputLayer)            [(None, 5)]          0                                            \n",
      "__________________________________________________________________________________________________\n",
      "dense_1 (Dense)                 (None, 30)           930         dense[0][0]                      \n",
      "__________________________________________________________________________________________________\n",
      "concatenate (Concatenate)       (None, 35)           0           input_1[0][0]                    \n",
      "                                                                 dense_1[0][0]                    \n",
      "__________________________________________________________________________________________________\n",
      "dense_2 (Dense)                 (None, 1)            36          concatenate[0][0]                \n",
      "__________________________________________________________________________________________________\n",
      "dense_3 (Dense)                 (None, 1)            31          dense_1[0][0]                    \n",
      "==================================================================================================\n",
      "Total params: 1,207\n",
      "Trainable params: 1,207\n",
      "Non-trainable params: 0\n",
      "__________________________________________________________________________________________________\n"
     ]
    }
   ],
   "source": [
    "# 多输出\n",
    "input_wide = keras.layers.Input(shape=[5])\n",
    "input_deep = keras.layers.Input(shape=[6])\n",
    "\n",
    "hidden1 = keras.layers.Dense(30, activation='relu')(input_deep)\n",
    "hidden2 = keras.layers.Dense(30, activation='relu')(hidden1)\n",
    "concat = keras.layers.concatenate([input_wide, hidden2])\n",
    "output = keras.layers.Dense(1)(concat)\n",
    "output2 = keras.layers.Dense(1)(hidden2)\n",
    "model = keras.models.Model(inputs=[input_wide, input_deep], \n",
    "                           outputs=[output, output2])\n",
    " \n",
    "\n",
    "model.summary()\n",
    "model.compile(loss='mean_squared_error', optimizer='sgd')\n",
    "callbacks = [keras.callbacks.EarlyStopping(patience=5, min_delta=1e-2)]"
   ]
  },
  {
   "cell_type": "code",
   "execution_count": 7,
   "metadata": {},
   "outputs": [
    {
     "name": "stdout",
     "output_type": "stream",
     "text": [
      "Train on 11610 samples, validate on 3870 samples\n",
      "Epoch 1/100\n",
      "11610/11610 [==============================] - 1s 58us/sample - loss: 4.1088 - dense_2_loss: 1.8473 - dense_3_loss: 2.2615 - val_loss: 2.2155 - val_dense_2_loss: 0.8814 - val_dense_3_loss: 1.3341\n",
      "Epoch 2/100\n",
      "11610/11610 [==============================] - 0s 31us/sample - loss: 1.9976 - dense_2_loss: 0.7833 - dense_3_loss: 1.2143 - val_loss: 1.8591 - val_dense_2_loss: 0.7209 - val_dense_3_loss: 1.1382\n",
      "Epoch 3/100\n",
      "11610/11610 [==============================] - 0s 31us/sample - loss: 1.7288 - dense_2_loss: 0.6802 - dense_3_loss: 1.0486 - val_loss: 1.6598 - val_dense_2_loss: 0.6561 - val_dense_3_loss: 1.0036\n",
      "Epoch 4/100\n",
      "11610/11610 [==============================] - 0s 31us/sample - loss: 1.5603 - dense_2_loss: 0.6260 - dense_3_loss: 0.9342 - val_loss: 1.5129 - val_dense_2_loss: 0.6115 - val_dense_3_loss: 0.9014\n",
      "Epoch 5/100\n",
      "11610/11610 [==============================] - 0s 31us/sample - loss: 1.4400 - dense_2_loss: 0.5871 - dense_3_loss: 0.8528 - val_loss: 1.4116 - val_dense_2_loss: 0.5788 - val_dense_3_loss: 0.8327\n",
      "Epoch 6/100\n",
      "11610/11610 [==============================] - 0s 31us/sample - loss: 1.3546 - dense_2_loss: 0.5564 - dense_3_loss: 0.7982 - val_loss: 1.3410 - val_dense_2_loss: 0.5527 - val_dense_3_loss: 0.7883\n",
      "Epoch 7/100\n",
      "11610/11610 [==============================] - 0s 31us/sample - loss: 1.2972 - dense_2_loss: 0.5329 - dense_3_loss: 0.7643 - val_loss: 1.2924 - val_dense_2_loss: 0.5327 - val_dense_3_loss: 0.7597\n",
      "Epoch 8/100\n",
      "11610/11610 [==============================] - 0s 32us/sample - loss: 1.2578 - dense_2_loss: 0.5157 - dense_3_loss: 0.7421 - val_loss: 1.2578 - val_dense_2_loss: 0.5176 - val_dense_3_loss: 0.7402\n",
      "Epoch 9/100\n",
      "11610/11610 [==============================] - 0s 31us/sample - loss: 1.2294 - dense_2_loss: 0.5031 - dense_3_loss: 0.7263 - val_loss: 1.2353 - val_dense_2_loss: 0.5082 - val_dense_3_loss: 0.7271\n",
      "Epoch 10/100\n",
      "11610/11610 [==============================] - 0s 31us/sample - loss: 1.2073 - dense_2_loss: 0.4932 - dense_3_loss: 0.7141 - val_loss: 1.2160 - val_dense_2_loss: 0.5001 - val_dense_3_loss: 0.7160\n",
      "Epoch 11/100\n",
      "11610/11610 [==============================] - 0s 31us/sample - loss: 1.1906 - dense_2_loss: 0.4871 - dense_3_loss: 0.7036 - val_loss: 1.1969 - val_dense_2_loss: 0.4922 - val_dense_3_loss: 0.7047\n",
      "Epoch 12/100\n",
      "11610/11610 [==============================] - 0s 31us/sample - loss: 1.1750 - dense_2_loss: 0.4805 - dense_3_loss: 0.6944 - val_loss: 1.1855 - val_dense_2_loss: 0.4884 - val_dense_3_loss: 0.6970\n",
      "Epoch 13/100\n",
      "11610/11610 [==============================] - 0s 30us/sample - loss: 1.1621 - dense_2_loss: 0.4754 - dense_3_loss: 0.6867 - val_loss: 1.1679 - val_dense_2_loss: 0.4820 - val_dense_3_loss: 0.6859\n",
      "Epoch 14/100\n",
      "11610/11610 [==============================] - 0s 30us/sample - loss: 1.1506 - dense_2_loss: 0.4711 - dense_3_loss: 0.6795 - val_loss: 1.1574 - val_dense_2_loss: 0.4786 - val_dense_3_loss: 0.6788\n",
      "Epoch 15/100\n",
      "11610/11610 [==============================] - 0s 31us/sample - loss: 1.1393 - dense_2_loss: 0.4669 - dense_3_loss: 0.6723 - val_loss: 1.1509 - val_dense_2_loss: 0.4759 - val_dense_3_loss: 0.6750\n",
      "Epoch 16/100\n",
      "11610/11610 [==============================] - 0s 30us/sample - loss: 1.1282 - dense_2_loss: 0.4629 - dense_3_loss: 0.6653 - val_loss: 1.1337 - val_dense_2_loss: 0.4693 - val_dense_3_loss: 0.6644\n",
      "Epoch 17/100\n",
      "11610/11610 [==============================] - 0s 31us/sample - loss: 1.1203 - dense_2_loss: 0.4608 - dense_3_loss: 0.6595 - val_loss: 1.1269 - val_dense_2_loss: 0.4659 - val_dense_3_loss: 0.6609\n",
      "Epoch 18/100\n",
      "11610/11610 [==============================] - 0s 31us/sample - loss: 1.1097 - dense_2_loss: 0.4566 - dense_3_loss: 0.6531 - val_loss: 1.1208 - val_dense_2_loss: 0.4656 - val_dense_3_loss: 0.6552\n",
      "Epoch 19/100\n",
      "11610/11610 [==============================] - 0s 31us/sample - loss: 1.1015 - dense_2_loss: 0.4534 - dense_3_loss: 0.6481 - val_loss: 1.1136 - val_dense_2_loss: 0.4618 - val_dense_3_loss: 0.6518\n",
      "Epoch 20/100\n",
      "11610/11610 [==============================] - 0s 31us/sample - loss: 1.0934 - dense_2_loss: 0.4518 - dense_3_loss: 0.6416 - val_loss: 1.0987 - val_dense_2_loss: 0.4567 - val_dense_3_loss: 0.6420\n",
      "Epoch 21/100\n",
      "11610/11610 [==============================] - 0s 30us/sample - loss: 1.0868 - dense_2_loss: 0.4489 - dense_3_loss: 0.6379 - val_loss: 1.0930 - val_dense_2_loss: 0.4550 - val_dense_3_loss: 0.6380\n",
      "Epoch 22/100\n",
      "11610/11610 [==============================] - 0s 31us/sample - loss: 1.0783 - dense_2_loss: 0.4461 - dense_3_loss: 0.6322 - val_loss: 1.0861 - val_dense_2_loss: 0.4540 - val_dense_3_loss: 0.6322\n",
      "Epoch 23/100\n",
      "11610/11610 [==============================] - 0s 31us/sample - loss: 1.0718 - dense_2_loss: 0.4442 - dense_3_loss: 0.6276 - val_loss: 1.0783 - val_dense_2_loss: 0.4500 - val_dense_3_loss: 0.6283\n",
      "Epoch 24/100\n",
      "11610/11610 [==============================] - 0s 31us/sample - loss: 1.0646 - dense_2_loss: 0.4420 - dense_3_loss: 0.6226 - val_loss: 1.0724 - val_dense_2_loss: 0.4492 - val_dense_3_loss: 0.6232\n",
      "Epoch 25/100\n",
      "11610/11610 [==============================] - 0s 31us/sample - loss: 1.0577 - dense_2_loss: 0.4398 - dense_3_loss: 0.6179 - val_loss: 1.0676 - val_dense_2_loss: 0.4482 - val_dense_3_loss: 0.6194\n",
      "Epoch 26/100\n",
      "11610/11610 [==============================] - 0s 31us/sample - loss: 1.0526 - dense_2_loss: 0.4389 - dense_3_loss: 0.6137 - val_loss: 1.0621 - val_dense_2_loss: 0.4468 - val_dense_3_loss: 0.6153\n",
      "Epoch 27/100\n",
      "11610/11610 [==============================] - 0s 31us/sample - loss: 1.0442 - dense_2_loss: 0.4351 - dense_3_loss: 0.6091 - val_loss: 1.0504 - val_dense_2_loss: 0.4414 - val_dense_3_loss: 0.6090\n",
      "Epoch 28/100\n",
      "11610/11610 [==============================] - 0s 31us/sample - loss: 1.0389 - dense_2_loss: 0.4344 - dense_3_loss: 0.6045 - val_loss: 1.0485 - val_dense_2_loss: 0.4409 - val_dense_3_loss: 0.6076\n",
      "Epoch 29/100\n",
      "11610/11610 [==============================] - 0s 31us/sample - loss: 1.0334 - dense_2_loss: 0.4328 - dense_3_loss: 0.6005 - val_loss: 1.0415 - val_dense_2_loss: 0.4388 - val_dense_3_loss: 0.6027\n",
      "Epoch 30/100\n",
      "11610/11610 [==============================] - 0s 32us/sample - loss: 1.0266 - dense_2_loss: 0.4309 - dense_3_loss: 0.5957 - val_loss: 1.0354 - val_dense_2_loss: 0.4367 - val_dense_3_loss: 0.5988\n",
      "Epoch 31/100\n",
      "11610/11610 [==============================] - 0s 31us/sample - loss: 1.0206 - dense_2_loss: 0.4286 - dense_3_loss: 0.5920 - val_loss: 1.0270 - val_dense_2_loss: 0.4343 - val_dense_3_loss: 0.5927\n",
      "Epoch 32/100\n",
      "11610/11610 [==============================] - 0s 32us/sample - loss: 1.0146 - dense_2_loss: 0.4266 - dense_3_loss: 0.5880 - val_loss: 1.0246 - val_dense_2_loss: 0.4351 - val_dense_3_loss: 0.5895\n",
      "Epoch 33/100\n",
      "11610/11610 [==============================] - 0s 32us/sample - loss: 1.0094 - dense_2_loss: 0.4256 - dense_3_loss: 0.5838 - val_loss: 1.0168 - val_dense_2_loss: 0.4315 - val_dense_3_loss: 0.5853\n",
      "Epoch 34/100\n",
      "11610/11610 [==============================] - 0s 31us/sample - loss: 1.0030 - dense_2_loss: 0.4236 - dense_3_loss: 0.5794 - val_loss: 1.0163 - val_dense_2_loss: 0.4322 - val_dense_3_loss: 0.5842\n",
      "Epoch 35/100\n",
      "11610/11610 [==============================] - 0s 31us/sample - loss: 0.9971 - dense_2_loss: 0.4216 - dense_3_loss: 0.5755 - val_loss: 1.0067 - val_dense_2_loss: 0.4285 - val_dense_3_loss: 0.5782\n",
      "Epoch 36/100\n",
      "11610/11610 [==============================] - 0s 31us/sample - loss: 0.9908 - dense_2_loss: 0.4196 - dense_3_loss: 0.5712 - val_loss: 0.9986 - val_dense_2_loss: 0.4250 - val_dense_3_loss: 0.5736\n",
      "Epoch 37/100\n",
      "11610/11610 [==============================] - 0s 31us/sample - loss: 0.9863 - dense_2_loss: 0.4185 - dense_3_loss: 0.5678 - val_loss: 0.9913 - val_dense_2_loss: 0.4229 - val_dense_3_loss: 0.5684\n",
      "Epoch 38/100\n",
      "11610/11610 [==============================] - 0s 31us/sample - loss: 0.9797 - dense_2_loss: 0.4164 - dense_3_loss: 0.5633 - val_loss: 0.9940 - val_dense_2_loss: 0.4247 - val_dense_3_loss: 0.5693\n",
      "Epoch 39/100\n",
      "11610/11610 [==============================] - 0s 31us/sample - loss: 0.9754 - dense_2_loss: 0.4152 - dense_3_loss: 0.5602 - val_loss: 0.9845 - val_dense_2_loss: 0.4209 - val_dense_3_loss: 0.5636\n",
      "Epoch 40/100\n"
     ]
    },
    {
     "name": "stdout",
     "output_type": "stream",
     "text": [
      "11610/11610 [==============================] - 0s 31us/sample - loss: 0.9699 - dense_2_loss: 0.4135 - dense_3_loss: 0.5564 - val_loss: 0.9821 - val_dense_2_loss: 0.4203 - val_dense_3_loss: 0.5618\n",
      "Epoch 41/100\n",
      "11610/11610 [==============================] - 0s 31us/sample - loss: 0.9642 - dense_2_loss: 0.4118 - dense_3_loss: 0.5524 - val_loss: 0.9773 - val_dense_2_loss: 0.4190 - val_dense_3_loss: 0.5583\n",
      "Epoch 42/100\n",
      "11610/11610 [==============================] - 0s 31us/sample - loss: 0.9597 - dense_2_loss: 0.4106 - dense_3_loss: 0.5491 - val_loss: 0.9684 - val_dense_2_loss: 0.4159 - val_dense_3_loss: 0.5525\n",
      "Epoch 43/100\n",
      "11610/11610 [==============================] - 0s 31us/sample - loss: 0.9543 - dense_2_loss: 0.4088 - dense_3_loss: 0.5454 - val_loss: 0.9662 - val_dense_2_loss: 0.4158 - val_dense_3_loss: 0.5504\n",
      "Epoch 44/100\n",
      "11610/11610 [==============================] - 0s 31us/sample - loss: 0.9490 - dense_2_loss: 0.4072 - dense_3_loss: 0.5418 - val_loss: 0.9629 - val_dense_2_loss: 0.4155 - val_dense_3_loss: 0.5475\n",
      "Epoch 45/100\n",
      "11610/11610 [==============================] - 0s 31us/sample - loss: 0.9438 - dense_2_loss: 0.4055 - dense_3_loss: 0.5383 - val_loss: 0.9552 - val_dense_2_loss: 0.4121 - val_dense_3_loss: 0.5431\n",
      "Epoch 46/100\n",
      "11610/11610 [==============================] - 0s 31us/sample - loss: 0.9397 - dense_2_loss: 0.4045 - dense_3_loss: 0.5352 - val_loss: 0.9519 - val_dense_2_loss: 0.4109 - val_dense_3_loss: 0.5411\n",
      "Epoch 47/100\n",
      "11610/11610 [==============================] - 0s 31us/sample - loss: 0.9341 - dense_2_loss: 0.4026 - dense_3_loss: 0.5315 - val_loss: 0.9499 - val_dense_2_loss: 0.4107 - val_dense_3_loss: 0.5391\n",
      "Epoch 48/100\n",
      "11610/11610 [==============================] - 0s 31us/sample - loss: 0.9285 - dense_2_loss: 0.4009 - dense_3_loss: 0.5276 - val_loss: 0.9408 - val_dense_2_loss: 0.4073 - val_dense_3_loss: 0.5334\n",
      "Epoch 49/100\n",
      "11610/11610 [==============================] - 0s 31us/sample - loss: 0.9237 - dense_2_loss: 0.3999 - dense_3_loss: 0.5239 - val_loss: 0.9338 - val_dense_2_loss: 0.4049 - val_dense_3_loss: 0.5288\n",
      "Epoch 50/100\n",
      "11610/11610 [==============================] - 0s 31us/sample - loss: 0.9190 - dense_2_loss: 0.3982 - dense_3_loss: 0.5208 - val_loss: 0.9313 - val_dense_2_loss: 0.4052 - val_dense_3_loss: 0.5261\n",
      "Epoch 51/100\n",
      "11610/11610 [==============================] - 0s 31us/sample - loss: 0.9152 - dense_2_loss: 0.3977 - dense_3_loss: 0.5175 - val_loss: 0.9276 - val_dense_2_loss: 0.4032 - val_dense_3_loss: 0.5243\n",
      "Epoch 52/100\n",
      "11610/11610 [==============================] - 0s 32us/sample - loss: 0.9089 - dense_2_loss: 0.3949 - dense_3_loss: 0.5141 - val_loss: 0.9194 - val_dense_2_loss: 0.4000 - val_dense_3_loss: 0.5194\n",
      "Epoch 53/100\n",
      "11610/11610 [==============================] - 0s 31us/sample - loss: 0.9040 - dense_2_loss: 0.3936 - dense_3_loss: 0.5104 - val_loss: 0.9246 - val_dense_2_loss: 0.4032 - val_dense_3_loss: 0.5214\n",
      "Epoch 54/100\n",
      "11610/11610 [==============================] - 0s 31us/sample - loss: 0.9014 - dense_2_loss: 0.3928 - dense_3_loss: 0.5086 - val_loss: 0.9102 - val_dense_2_loss: 0.3969 - val_dense_3_loss: 0.5133\n",
      "Epoch 55/100\n",
      "11610/11610 [==============================] - 0s 31us/sample - loss: 0.8967 - dense_2_loss: 0.3912 - dense_3_loss: 0.5055 - val_loss: 0.9095 - val_dense_2_loss: 0.3970 - val_dense_3_loss: 0.5125\n",
      "Epoch 56/100\n",
      "11610/11610 [==============================] - 0s 31us/sample - loss: 0.8903 - dense_2_loss: 0.3894 - dense_3_loss: 0.5009 - val_loss: 0.9039 - val_dense_2_loss: 0.3954 - val_dense_3_loss: 0.5085\n",
      "Epoch 57/100\n",
      "11610/11610 [==============================] - 0s 32us/sample - loss: 0.8860 - dense_2_loss: 0.3880 - dense_3_loss: 0.4980 - val_loss: 0.9026 - val_dense_2_loss: 0.3959 - val_dense_3_loss: 0.5067\n",
      "Epoch 58/100\n",
      "11610/11610 [==============================] - 0s 31us/sample - loss: 0.8821 - dense_2_loss: 0.3868 - dense_3_loss: 0.4954 - val_loss: 0.8938 - val_dense_2_loss: 0.3916 - val_dense_3_loss: 0.5022\n",
      "Epoch 59/100\n",
      "11610/11610 [==============================] - 0s 31us/sample - loss: 0.8774 - dense_2_loss: 0.3857 - dense_3_loss: 0.4917 - val_loss: 0.8956 - val_dense_2_loss: 0.3943 - val_dense_3_loss: 0.5014\n",
      "Epoch 60/100\n",
      "11610/11610 [==============================] - 0s 31us/sample - loss: 0.8736 - dense_2_loss: 0.3846 - dense_3_loss: 0.4890 - val_loss: 0.8854 - val_dense_2_loss: 0.3889 - val_dense_3_loss: 0.4965\n",
      "Epoch 61/100\n",
      "11610/11610 [==============================] - 0s 31us/sample - loss: 0.8673 - dense_2_loss: 0.3822 - dense_3_loss: 0.4851 - val_loss: 0.8851 - val_dense_2_loss: 0.3888 - val_dense_3_loss: 0.4963\n",
      "Epoch 62/100\n",
      "11610/11610 [==============================] - 0s 31us/sample - loss: 0.8630 - dense_2_loss: 0.3807 - dense_3_loss: 0.4823 - val_loss: 0.8773 - val_dense_2_loss: 0.3867 - val_dense_3_loss: 0.4906\n",
      "Epoch 63/100\n",
      "11610/11610 [==============================] - 0s 31us/sample - loss: 0.8597 - dense_2_loss: 0.3802 - dense_3_loss: 0.4795 - val_loss: 0.8730 - val_dense_2_loss: 0.3848 - val_dense_3_loss: 0.4882\n",
      "Epoch 64/100\n",
      "11610/11610 [==============================] - 0s 31us/sample - loss: 0.8554 - dense_2_loss: 0.3783 - dense_3_loss: 0.4772 - val_loss: 0.8758 - val_dense_2_loss: 0.3869 - val_dense_3_loss: 0.4890\n",
      "Epoch 65/100\n",
      "11610/11610 [==============================] - 0s 31us/sample - loss: 0.8514 - dense_2_loss: 0.3773 - dense_3_loss: 0.4741 - val_loss: 0.8630 - val_dense_2_loss: 0.3812 - val_dense_3_loss: 0.4818\n",
      "Epoch 66/100\n",
      "11610/11610 [==============================] - 0s 31us/sample - loss: 0.8472 - dense_2_loss: 0.3760 - dense_3_loss: 0.4712 - val_loss: 0.8613 - val_dense_2_loss: 0.3807 - val_dense_3_loss: 0.4805\n",
      "Epoch 67/100\n",
      "11610/11610 [==============================] - 0s 31us/sample - loss: 0.8431 - dense_2_loss: 0.3746 - dense_3_loss: 0.4685 - val_loss: 0.8600 - val_dense_2_loss: 0.3803 - val_dense_3_loss: 0.4797\n",
      "Epoch 68/100\n",
      "11610/11610 [==============================] - 0s 31us/sample - loss: 0.8420 - dense_2_loss: 0.3757 - dense_3_loss: 0.4663 - val_loss: 0.8533 - val_dense_2_loss: 0.3778 - val_dense_3_loss: 0.4755\n",
      "Epoch 69/100\n",
      "11610/11610 [==============================] - 0s 31us/sample - loss: 0.8353 - dense_2_loss: 0.3717 - dense_3_loss: 0.4636 - val_loss: 0.8470 - val_dense_2_loss: 0.3756 - val_dense_3_loss: 0.4714\n",
      "Epoch 70/100\n",
      "11610/11610 [==============================] - 0s 31us/sample - loss: 0.8308 - dense_2_loss: 0.3710 - dense_3_loss: 0.4599 - val_loss: 0.8478 - val_dense_2_loss: 0.3756 - val_dense_3_loss: 0.4722\n",
      "Epoch 71/100\n",
      "11610/11610 [==============================] - 0s 31us/sample - loss: 0.8272 - dense_2_loss: 0.3693 - dense_3_loss: 0.4579 - val_loss: 0.8446 - val_dense_2_loss: 0.3750 - val_dense_3_loss: 0.4697\n",
      "Epoch 72/100\n",
      "11610/11610 [==============================] - 0s 31us/sample - loss: 0.8232 - dense_2_loss: 0.3682 - dense_3_loss: 0.4549 - val_loss: 0.8362 - val_dense_2_loss: 0.3718 - val_dense_3_loss: 0.4643\n",
      "Epoch 73/100\n",
      "11610/11610 [==============================] - 0s 31us/sample - loss: 0.8208 - dense_2_loss: 0.3669 - dense_3_loss: 0.4539 - val_loss: 0.8310 - val_dense_2_loss: 0.3698 - val_dense_3_loss: 0.4612\n",
      "Epoch 74/100\n",
      "11610/11610 [==============================] - 0s 31us/sample - loss: 0.8166 - dense_2_loss: 0.3658 - dense_3_loss: 0.4508 - val_loss: 0.8344 - val_dense_2_loss: 0.3718 - val_dense_3_loss: 0.4625\n",
      "Epoch 75/100\n",
      "11610/11610 [==============================] - 0s 31us/sample - loss: 0.8136 - dense_2_loss: 0.3649 - dense_3_loss: 0.4487 - val_loss: 0.8247 - val_dense_2_loss: 0.3675 - val_dense_3_loss: 0.4572\n",
      "Epoch 76/100\n",
      "11610/11610 [==============================] - 0s 31us/sample - loss: 0.8103 - dense_2_loss: 0.3641 - dense_3_loss: 0.4462 - val_loss: 0.8296 - val_dense_2_loss: 0.3689 - val_dense_3_loss: 0.4607\n",
      "Epoch 77/100\n",
      "11610/11610 [==============================] - 0s 31us/sample - loss: 0.8059 - dense_2_loss: 0.3620 - dense_3_loss: 0.4438 - val_loss: 0.8245 - val_dense_2_loss: 0.3678 - val_dense_3_loss: 0.4567\n",
      "Epoch 78/100\n",
      "11610/11610 [==============================] - 0s 31us/sample - loss: 0.8043 - dense_2_loss: 0.3623 - dense_3_loss: 0.4420 - val_loss: 0.8148 - val_dense_2_loss: 0.3639 - val_dense_3_loss: 0.4508\n",
      "Epoch 79/100\n"
     ]
    },
    {
     "name": "stdout",
     "output_type": "stream",
     "text": [
      "11610/11610 [==============================] - 0s 31us/sample - loss: 0.8007 - dense_2_loss: 0.3610 - dense_3_loss: 0.4396 - val_loss: 0.8155 - val_dense_2_loss: 0.3643 - val_dense_3_loss: 0.4512\n",
      "Epoch 80/100\n",
      "11610/11610 [==============================] - 0s 31us/sample - loss: 0.7981 - dense_2_loss: 0.3602 - dense_3_loss: 0.4379 - val_loss: 0.8184 - val_dense_2_loss: 0.3654 - val_dense_3_loss: 0.4531\n"
     ]
    }
   ],
   "source": [
    "x_train_scaled_wide = x_train_scaled[:, :5]\n",
    "x_train_scaled_deep = x_train_scaled[:, 2:]\n",
    "x_valid_scaled_wide = x_valid_scaled[:, :5]\n",
    "x_valid_scaled_deep = x_valid_scaled[:, 2:]\n",
    "x_test_scaled_wide = x_test_scaled[:, :5]\n",
    "x_test_scaled_deep = x_test_scaled[:, 2:]\n",
    "\n",
    "history = model.fit([x_train_scaled_wide, x_train_scaled_deep], \n",
    "                    [y_train, y_train], \n",
    "                    validation_data=([x_valid_scaled_wide, x_valid_scaled_deep], [y_valid, y_valid]), \n",
    "                    epochs=100, \n",
    "                    callbacks=callbacks)"
   ]
  },
  {
   "cell_type": "code",
   "execution_count": 13,
   "metadata": {},
   "outputs": [],
   "source": [
    "def plot_learning_curves(history):\n",
    "    pd.DataFrame(history.history).plot(figsize=(8, 5))\n",
    "    plt.grid(True)\n",
    "    plt.gca().set_ylim(0, 4)\n",
    "    plt.show()"
   ]
  },
  {
   "cell_type": "code",
   "execution_count": 14,
   "metadata": {},
   "outputs": [
    {
     "data": {
      "image/png": "[encoded data removed]",
      "text/plain": [
       "<Figure size 576x360 with 1 Axes>"
      ]
     },
     "metadata": {
      "needs_background": "light"
     },
     "output_type": "display_data"
    }
   ],
   "source": [
    "plot_learning_curves(history)"
   ]
  },
  {
   "cell_type": "code",
   "execution_count": 10,
   "metadata": {},
   "outputs": [
    {
     "name": "stdout",
     "output_type": "stream",
     "text": [
      "5160/5160 [==============================] - 0s 16us/sample - loss: 0.8221 - dense_2_loss: 0.3721 - dense_3_loss: 0.4500\n"
     ]
    },
    {
     "data": {
      "text/plain": [
       "[0.8220510090968406, 0.3720896, 0.44996145]"
      ]
     },
     "execution_count": 10,
     "metadata": {},
     "output_type": "execute_result"
    }
   ],
   "source": [
    "model.evaluate([x_test_scaled_wide, x_test_scaled_deep], [y_test, y_test])"
   ]
  },
  {
   "cell_type": "code",
   "execution_count": null,
   "metadata": {},
   "outputs": [],
   "source": []
  }
 ],
 "metadata": {
  "kernelspec": {
   "display_name": "Python [conda env:py3tf20]",
   "language": "python",
   "name": "conda-env-py3tf20-py"
  },
  "language_info": {
   "codemirror_mode": {
    "name": "ipython",
    "version": 3
   },
   "file_extension": ".py",
   "mimetype": "text/x-python",
   "name": "python",
   "nbconvert_exporter": "python",
   "pygments_lexer": "ipython3",
   "version": "3.7.3"
  }
 },
 "nbformat": 4,
 "nbformat_minor": 2
}
