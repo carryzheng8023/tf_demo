{
 "cells": [
  {
   "cell_type": "code",
   "execution_count": 1,
   "metadata": {},
   "outputs": [
    {
     "name": "stdout",
     "output_type": "stream",
     "text": [
      "sys.version_info(major=3, minor=7, micro=3, releaselevel='final', serial=0)\n",
      "matplotlib 3.0.3\n",
      "numpy 1.16.2\n",
      "pandas 0.24.2\n",
      "sklearn 0.21.1\n",
      "tensorflow 2.0.0-alpha0\n",
      "tensorflow.python.keras.api._v2.keras 2.2.4-tf\n"
     ]
    }
   ],
   "source": [
    "import matplotlib as mpl\n",
    "import matplotlib.pyplot as plt\n",
    "%matplotlib inline\n",
    "import numpy as np\n",
    "import sklearn\n",
    "import pandas as pd\n",
    "import os\n",
    "import sys\n",
    "import time\n",
    "import tensorflow as tf\n",
    "from tensorflow import keras\n",
    "# import keras\n",
    "\n",
    "print(sys.version_info)\n",
    "for module in mpl, np, pd, sklearn, tf, keras:\n",
    "    print(module.__name__, module.__version__)"
   ]
  },
  {
   "cell_type": "code",
   "execution_count": 2,
   "metadata": {},
   "outputs": [],
   "source": [
    "from sklearn import datasets"
   ]
  },
  {
   "cell_type": "code",
   "execution_count": 3,
   "metadata": {},
   "outputs": [
    {
     "name": "stdout",
     "output_type": "stream",
     "text": [
      ".. _california_housing_dataset:\n",
      "\n",
      "California Housing dataset\n",
      "--------------------------\n",
      "\n",
      "**Data Set Characteristics:**\n",
      "\n",
      "    :Number of Instances: 20640\n",
      "\n",
      "    :Number of Attributes: 8 numeric, predictive attributes and the target\n",
      "\n",
      "    :Attribute Information:\n",
      "        - MedInc        median income in block\n",
      "        - HouseAge      median house age in block\n",
      "        - AveRooms      average number of rooms\n",
      "        - AveBedrms     average number of bedrooms\n",
      "        - Population    block population\n",
      "        - AveOccup      average house occupancy\n",
      "        - Latitude      house block latitude\n",
      "        - Longitude     house block longitude\n",
      "\n",
      "    :Missing Attribute Values: None\n",
      "\n",
      "This dataset was obtained from the StatLib repository.\n",
      "http://lib.stat.cmu.edu/datasets/\n",
      "\n",
      "The target variable is the median house value for California districts.\n",
      "\n",
      "This dataset was derived from the 1990 U.S. census, using one row per census\n",
      "block group. A block group is the smallest geographical unit for which the U.S.\n",
      "Census Bureau publishes sample data (a block group typically has a population\n",
      "of 600 to 3,000 people).\n",
      "\n",
      "It can be downloaded/loaded using the\n",
      ":func:`sklearn.datasets.fetch_california_housing` function.\n",
      "\n",
      ".. topic:: References\n",
      "\n",
      "    - Pace, R. Kelley and Ronald Barry, Sparse Spatial Autoregressions,\n",
      "      Statistics and Probability Letters, 33 (1997) 291-297\n",
      "\n",
      "(20640, 8)\n",
      "(20640,)\n"
     ]
    }
   ],
   "source": [
    "housing = datasets.fetch_california_housing()\n",
    "print(housing.DESCR)\n",
    "print(housing.data.shape)\n",
    "print(housing.target.shape)"
   ]
  },
  {
   "cell_type": "code",
   "execution_count": 4,
   "metadata": {},
   "outputs": [
    {
     "name": "stdout",
     "output_type": "stream",
     "text": [
      "(11610, 8) (11610,)\n",
      "(3870, 8) (3870,)\n",
      "(5160, 8) (5160,)\n"
     ]
    }
   ],
   "source": [
    "from sklearn.model_selection import train_test_split\n",
    "\n",
    "x_train_all, x_test, y_train_all, y_test = train_test_split(housing.data, housing.target, random_state=21)\n",
    "x_train, x_valid, y_train, y_valid = train_test_split(x_train_all, y_train_all, random_state=34)\n",
    "print(x_train.shape, y_train.shape)\n",
    "print(x_valid.shape, y_valid.shape)\n",
    "print(x_test.shape, y_test.shape)"
   ]
  },
  {
   "cell_type": "code",
   "execution_count": 5,
   "metadata": {},
   "outputs": [],
   "source": [
    "from sklearn.preprocessing import StandardScaler\n",
    "\n",
    "scaler = StandardScaler()\n",
    "x_train_scaled = scaler.fit_transform(x_train)\n",
    "x_valid_scaled = scaler.transform(x_valid)\n",
    "x_test_scaled = scaler.transform(x_test)"
   ]
  },
  {
   "cell_type": "code",
   "execution_count": 18,
   "metadata": {},
   "outputs": [
    {
     "name": "stdout",
     "output_type": "stream",
     "text": [
      "Model: \"wide_deep_model_3\"\n",
      "_________________________________________________________________\n",
      "Layer (type)                 Output Shape              Param #   \n",
      "=================================================================\n",
      "dense_9 (Dense)              multiple                  270       \n",
      "_________________________________________________________________\n",
      "dense_10 (Dense)             multiple                  930       \n",
      "_________________________________________________________________\n",
      "dense_11 (Dense)             multiple                  39        \n",
      "=================================================================\n",
      "Total params: 1,239\n",
      "Trainable params: 1,239\n",
      "Non-trainable params: 0\n",
      "_________________________________________________________________\n"
     ]
    }
   ],
   "source": [
    "# 子类api\n",
    "\n",
    "class WideDeepModel(keras.models.Model):\n",
    "    def __init__(self):\n",
    "        super(WideDeepModel, self).__init__()\n",
    "        \"\"\"定义模型层次\"\"\"\n",
    "        self.hidden1_layer = keras.layers.Dense(30, activation='relu')\n",
    "        self.hidden2_layer = keras.layers.Dense(30, activation='relu')\n",
    "        self.output_layer = keras.layers.Dense(1)\n",
    "    \n",
    "    def call(self, input):\n",
    "        \"\"\"完成正向计算\"\"\"\n",
    "        hidden1 = self.hidden1_layer(input)\n",
    "        hidden2 = self.hidden2_layer(hidden1)\n",
    "        concat = keras.layers.concatenate([input, hidden2])\n",
    "        output = self.output_layer(concat)\n",
    "        return output\n",
    "\n",
    "model = WideDeepModel()\n",
    "# model = keras.models.Sequential([\n",
    "#     WideDeepModel(),\n",
    "# ])\n",
    "\n",
    "model.build(input_shape=(None, 8))\n",
    "\n",
    "model.summary()\n",
    "model.compile(loss='mean_squared_error', optimizer='sgd')\n",
    "callbacks = [keras.callbacks.EarlyStopping(patience=5, min_delta=1e-2)]"
   ]
  },
  {
   "cell_type": "code",
   "execution_count": 19,
   "metadata": {},
   "outputs": [
    {
     "name": "stdout",
     "output_type": "stream",
     "text": [
      "Train on 11610 samples, validate on 3870 samples\n",
      "Epoch 1/100\n",
      "11610/11610 [==============================] - 0s 29us/sample - loss: 1.8391 - val_loss: 0.8493\n",
      "Epoch 2/100\n",
      "11610/11610 [==============================] - 0s 19us/sample - loss: 0.8054 - val_loss: 0.7492\n",
      "Epoch 3/100\n",
      "11610/11610 [==============================] - 0s 20us/sample - loss: 0.7220 - val_loss: 0.6867\n",
      "Epoch 4/100\n",
      "11610/11610 [==============================] - 0s 21us/sample - loss: 0.6614 - val_loss: 0.6422\n",
      "Epoch 5/100\n",
      "11610/11610 [==============================] - 0s 22us/sample - loss: 0.6172 - val_loss: 0.6070\n",
      "Epoch 6/100\n",
      "11610/11610 [==============================] - 0s 23us/sample - loss: 0.5823 - val_loss: 0.5779\n",
      "Epoch 7/100\n",
      "11610/11610 [==============================] - 0s 25us/sample - loss: 0.5557 - val_loss: 0.5576\n",
      "Epoch 8/100\n",
      "11610/11610 [==============================] - 0s 23us/sample - loss: 0.5347 - val_loss: 0.5407\n",
      "Epoch 9/100\n",
      "11610/11610 [==============================] - 0s 20us/sample - loss: 0.5183 - val_loss: 0.5275\n",
      "Epoch 10/100\n",
      "11610/11610 [==============================] - 0s 20us/sample - loss: 0.5048 - val_loss: 0.5170\n",
      "Epoch 11/100\n",
      "11610/11610 [==============================] - 0s 22us/sample - loss: 0.4934 - val_loss: 0.5062\n",
      "Epoch 12/100\n",
      "11610/11610 [==============================] - 0s 20us/sample - loss: 0.4851 - val_loss: 0.4990\n",
      "Epoch 13/100\n",
      "11610/11610 [==============================] - 0s 20us/sample - loss: 0.4776 - val_loss: 0.4935\n",
      "Epoch 14/100\n",
      "11610/11610 [==============================] - 0s 20us/sample - loss: 0.4711 - val_loss: 0.4870\n",
      "Epoch 15/100\n",
      "11610/11610 [==============================] - 0s 20us/sample - loss: 0.4658 - val_loss: 0.4839\n",
      "Epoch 16/100\n",
      "11610/11610 [==============================] - 0s 22us/sample - loss: 0.4613 - val_loss: 0.4778\n",
      "Epoch 17/100\n",
      "11610/11610 [==============================] - 0s 21us/sample - loss: 0.4571 - val_loss: 0.4732\n",
      "Epoch 18/100\n",
      "11610/11610 [==============================] - 0s 20us/sample - loss: 0.4535 - val_loss: 0.4709\n",
      "Epoch 19/100\n",
      "11610/11610 [==============================] - 0s 20us/sample - loss: 0.4499 - val_loss: 0.4669\n",
      "Epoch 20/100\n",
      "11610/11610 [==============================] - 0s 23us/sample - loss: 0.4470 - val_loss: 0.4643\n",
      "Epoch 21/100\n",
      "11610/11610 [==============================] - 0s 20us/sample - loss: 0.4442 - val_loss: 0.4607\n",
      "Epoch 22/100\n",
      "11610/11610 [==============================] - 0s 21us/sample - loss: 0.4414 - val_loss: 0.4578\n",
      "Epoch 23/100\n",
      "11610/11610 [==============================] - 0s 20us/sample - loss: 0.4390 - val_loss: 0.4557\n",
      "Epoch 24/100\n",
      "11610/11610 [==============================] - 0s 23us/sample - loss: 0.4368 - val_loss: 0.4531\n",
      "Epoch 25/100\n",
      "11610/11610 [==============================] - 0s 19us/sample - loss: 0.4342 - val_loss: 0.4509\n",
      "Epoch 26/100\n",
      "11610/11610 [==============================] - 0s 21us/sample - loss: 0.4320 - val_loss: 0.4493\n",
      "Epoch 27/100\n",
      "11610/11610 [==============================] - 0s 22us/sample - loss: 0.4305 - val_loss: 0.4461\n",
      "Epoch 28/100\n",
      "11610/11610 [==============================] - 0s 22us/sample - loss: 0.4283 - val_loss: 0.4462\n"
     ]
    }
   ],
   "source": [
    "history = model.fit(x_train_scaled, y_train, \n",
    "                    validation_data=(x_valid_scaled, y_valid), \n",
    "                    epochs=100, \n",
    "                    callbacks=callbacks)"
   ]
  },
  {
   "cell_type": "code",
   "execution_count": 13,
   "metadata": {},
   "outputs": [],
   "source": [
    "def plot_learning_curves(history):\n",
    "    pd.DataFrame(history.history).plot(figsize=(8, 5))\n",
    "    plt.grid(True)\n",
    "    plt.gca().set_ylim(0, 3)\n",
    "    plt.show()"
   ]
  },
  {
   "cell_type": "code",
   "execution_count": 20,
   "metadata": {},
   "outputs": [
    {
     "data": {
      "image/png": "[encoded data removed]",
      "text/plain": [
       "<Figure size 576x360 with 1 Axes>"
      ]
     },
     "metadata": {
      "needs_background": "light"
     },
     "output_type": "display_data"
    }
   ],
   "source": [
    "plot_learning_curves(history)"
   ]
  },
  {
   "cell_type": "code",
   "execution_count": 21,
   "metadata": {},
   "outputs": [
    {
     "name": "stdout",
     "output_type": "stream",
     "text": [
      "5160/5160 [==============================] - 0s 10us/sample - loss: 0.4515\n"
     ]
    },
    {
     "data": {
      "text/plain": [
       "0.45152152573415477"
      ]
     },
     "execution_count": 21,
     "metadata": {},
     "output_type": "execute_result"
    }
   ],
   "source": [
    "model.evaluate(x_test_scaled, y_test)"
   ]
  },
  {
   "cell_type": "code",
   "execution_count": null,
   "metadata": {},
   "outputs": [],
   "source": []
  }
 ],
 "metadata": {
  "kernelspec": {
   "display_name": "Python [conda env:py3tf20]",
   "language": "python",
   "name": "conda-env-py3tf20-py"
  },
  "language_info": {
   "codemirror_mode": {
    "name": "ipython",
    "version": 3
   },
   "file_extension": ".py",
   "mimetype": "text/x-python",
   "name": "python",
   "nbconvert_exporter": "python",
   "pygments_lexer": "ipython3",
   "version": "3.7.3"
  }
 },
 "nbformat": 4,
 "nbformat_minor": 2
}
