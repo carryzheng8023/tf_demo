{
 "cells": [
  {
   "cell_type": "code",
   "execution_count": 1,
   "metadata": {},
   "outputs": [
    {
     "name": "stdout",
     "output_type": "stream",
     "text": [
      "sys.version_info(major=3, minor=7, micro=3, releaselevel='final', serial=0)\n",
      "matplotlib 3.0.3\n",
      "numpy 1.16.2\n",
      "pandas 0.24.2\n",
      "sklearn 0.21.1\n",
      "tensorflow 2.0.0-alpha0\n",
      "tensorflow.python.keras.api._v2.keras 2.2.4-tf\n"
     ]
    }
   ],
   "source": [
    "import matplotlib as mpl\n",
    "import matplotlib.pyplot as plt\n",
    "%matplotlib inline\n",
    "import numpy as np\n",
    "import sklearn\n",
    "import pandas as pd\n",
    "import os\n",
    "import sys\n",
    "import time\n",
    "import tensorflow as tf\n",
    "from tensorflow import keras\n",
    "# import keras\n",
    "\n",
    "print(sys.version_info)\n",
    "for module in mpl, np, pd, sklearn, tf, keras:\n",
    "    print(module.__name__, module.__version__)"
   ]
  },
  {
   "cell_type": "code",
   "execution_count": 2,
   "metadata": {},
   "outputs": [],
   "source": [
    "from sklearn import datasets"
   ]
  },
  {
   "cell_type": "code",
   "execution_count": 3,
   "metadata": {},
   "outputs": [
    {
     "name": "stdout",
     "output_type": "stream",
     "text": [
      ".. _california_housing_dataset:\n",
      "\n",
      "California Housing dataset\n",
      "--------------------------\n",
      "\n",
      "**Data Set Characteristics:**\n",
      "\n",
      "    :Number of Instances: 20640\n",
      "\n",
      "    :Number of Attributes: 8 numeric, predictive attributes and the target\n",
      "\n",
      "    :Attribute Information:\n",
      "        - MedInc        median income in block\n",
      "        - HouseAge      median house age in block\n",
      "        - AveRooms      average number of rooms\n",
      "        - AveBedrms     average number of bedrooms\n",
      "        - Population    block population\n",
      "        - AveOccup      average house occupancy\n",
      "        - Latitude      house block latitude\n",
      "        - Longitude     house block longitude\n",
      "\n",
      "    :Missing Attribute Values: None\n",
      "\n",
      "This dataset was obtained from the StatLib repository.\n",
      "http://lib.stat.cmu.edu/datasets/\n",
      "\n",
      "The target variable is the median house value for California districts.\n",
      "\n",
      "This dataset was derived from the 1990 U.S. census, using one row per census\n",
      "block group. A block group is the smallest geographical unit for which the U.S.\n",
      "Census Bureau publishes sample data (a block group typically has a population\n",
      "of 600 to 3,000 people).\n",
      "\n",
      "It can be downloaded/loaded using the\n",
      ":func:`sklearn.datasets.fetch_california_housing` function.\n",
      "\n",
      ".. topic:: References\n",
      "\n",
      "    - Pace, R. Kelley and Ronald Barry, Sparse Spatial Autoregressions,\n",
      "      Statistics and Probability Letters, 33 (1997) 291-297\n",
      "\n",
      "(20640, 8)\n",
      "(20640,)\n"
     ]
    }
   ],
   "source": [
    "housing = datasets.fetch_california_housing()\n",
    "print(housing.DESCR)\n",
    "print(housing.data.shape)\n",
    "print(housing.target.shape)"
   ]
  },
  {
   "cell_type": "code",
   "execution_count": 4,
   "metadata": {},
   "outputs": [
    {
     "name": "stdout",
     "output_type": "stream",
     "text": [
      "(11610, 8) (11610,)\n",
      "(3870, 8) (3870,)\n",
      "(5160, 8) (5160,)\n"
     ]
    }
   ],
   "source": [
    "from sklearn.model_selection import train_test_split\n",
    "\n",
    "x_train_all, x_test, y_train_all, y_test = train_test_split(housing.data, housing.target, random_state=21)\n",
    "x_train, x_valid, y_train, y_valid = train_test_split(x_train_all, y_train_all, random_state=34)\n",
    "print(x_train.shape, y_train.shape)\n",
    "print(x_valid.shape, y_valid.shape)\n",
    "print(x_test.shape, y_test.shape)"
   ]
  },
  {
   "cell_type": "code",
   "execution_count": 5,
   "metadata": {},
   "outputs": [],
   "source": [
    "from sklearn.preprocessing import StandardScaler\n",
    "\n",
    "scaler = StandardScaler()\n",
    "x_train_scaled = scaler.fit_transform(x_train)\n",
    "x_valid_scaled = scaler.transform(x_valid)\n",
    "x_test_scaled = scaler.transform(x_test)"
   ]
  },
  {
   "cell_type": "code",
   "execution_count": 6,
   "metadata": {},
   "outputs": [
    {
     "name": "stdout",
     "output_type": "stream",
     "text": [
      "Model: \"model\"\n",
      "__________________________________________________________________________________________________\n",
      "Layer (type)                    Output Shape         Param #     Connected to                     \n",
      "==================================================================================================\n",
      "input_1 (InputLayer)            [(None, 8)]          0                                            \n",
      "__________________________________________________________________________________________________\n",
      "dense (Dense)                   (None, 30)           270         input_1[0][0]                    \n",
      "__________________________________________________________________________________________________\n",
      "dense_1 (Dense)                 (None, 30)           930         dense[0][0]                      \n",
      "__________________________________________________________________________________________________\n",
      "concatenate (Concatenate)       (None, 38)           0           input_1[0][0]                    \n",
      "                                                                 dense_1[0][0]                    \n",
      "__________________________________________________________________________________________________\n",
      "dense_2 (Dense)                 (None, 1)            39          concatenate[0][0]                \n",
      "==================================================================================================\n",
      "Total params: 1,239\n",
      "Trainable params: 1,239\n",
      "Non-trainable params: 0\n",
      "__________________________________________________________________________________________________\n"
     ]
    }
   ],
   "source": [
    "# 函数式api 功能api\n",
    "input = keras.layers.Input(shape=x_train.shape[1:])\n",
    "hidden1 = keras.layers.Dense(30, activation='relu')(input)\n",
    "hidden2 = keras.layers.Dense(30, activation='relu')(hidden1)\n",
    "\n",
    "concat = keras.layers.concatenate([input, hidden2])\n",
    "output = keras.layers.Dense(1)(concat)\n",
    "\n",
    "model = keras.models.Model(inputs=[input], outputs=[output])\n",
    "\n",
    "\n",
    "model.summary()\n",
    "model.compile(loss='mean_squared_error', optimizer='sgd')\n",
    "callbacks = [keras.callbacks.EarlyStopping(patience=5, min_delta=1e-2)]"
   ]
  },
  {
   "cell_type": "code",
   "execution_count": 7,
   "metadata": {},
   "outputs": [
    {
     "name": "stdout",
     "output_type": "stream",
     "text": [
      "Train on 11610 samples, validate on 3870 samples\n",
      "Epoch 1/100\n",
      "11610/11610 [==============================] - 1s 47us/sample - loss: 2.1552 - val_loss: 0.8476\n",
      "Epoch 2/100\n",
      "11610/11610 [==============================] - 0s 21us/sample - loss: 0.7653 - val_loss: 0.7019\n",
      "Epoch 3/100\n",
      "11610/11610 [==============================] - 0s 20us/sample - loss: 0.6688 - val_loss: 0.6508\n",
      "Epoch 4/100\n",
      "11610/11610 [==============================] - 0s 20us/sample - loss: 0.6226 - val_loss: 0.6131\n",
      "Epoch 5/100\n",
      "11610/11610 [==============================] - 0s 22us/sample - loss: 0.5891 - val_loss: 0.5855\n",
      "Epoch 6/100\n",
      "11610/11610 [==============================] - 0s 20us/sample - loss: 0.5634 - val_loss: 0.5625\n",
      "Epoch 7/100\n",
      "11610/11610 [==============================] - 0s 20us/sample - loss: 0.5436 - val_loss: 0.5455\n",
      "Epoch 8/100\n",
      "11610/11610 [==============================] - 0s 20us/sample - loss: 0.5276 - val_loss: 0.5338\n",
      "Epoch 9/100\n",
      "11610/11610 [==============================] - 0s 22us/sample - loss: 0.5148 - val_loss: 0.5219\n",
      "Epoch 10/100\n",
      "11610/11610 [==============================] - 0s 20us/sample - loss: 0.5042 - val_loss: 0.5135\n",
      "Epoch 11/100\n",
      "11610/11610 [==============================] - 0s 20us/sample - loss: 0.4953 - val_loss: 0.5072\n",
      "Epoch 12/100\n",
      "11610/11610 [==============================] - 0s 20us/sample - loss: 0.4882 - val_loss: 0.4972\n",
      "Epoch 13/100\n",
      "11610/11610 [==============================] - 0s 22us/sample - loss: 0.4808 - val_loss: 0.4917\n",
      "Epoch 14/100\n",
      "11610/11610 [==============================] - 0s 20us/sample - loss: 0.4753 - val_loss: 0.4872\n",
      "Epoch 15/100\n",
      "11610/11610 [==============================] - 0s 20us/sample - loss: 0.4702 - val_loss: 0.4844\n",
      "Epoch 16/100\n",
      "11610/11610 [==============================] - 0s 23us/sample - loss: 0.4655 - val_loss: 0.4768\n",
      "Epoch 17/100\n",
      "11610/11610 [==============================] - 0s 24us/sample - loss: 0.4608 - val_loss: 0.4734\n",
      "Epoch 18/100\n",
      "11610/11610 [==============================] - 0s 21us/sample - loss: 0.4576 - val_loss: 0.4696\n",
      "Epoch 19/100\n",
      "11610/11610 [==============================] - 0s 20us/sample - loss: 0.4531 - val_loss: 0.4656\n",
      "Epoch 20/100\n",
      "11610/11610 [==============================] - 0s 20us/sample - loss: 0.4499 - val_loss: 0.4628\n",
      "Epoch 21/100\n",
      "11610/11610 [==============================] - 0s 24us/sample - loss: 0.4463 - val_loss: 0.4599\n",
      "Epoch 22/100\n",
      "11610/11610 [==============================] - 0s 20us/sample - loss: 0.4426 - val_loss: 0.4562\n",
      "Epoch 23/100\n",
      "11610/11610 [==============================] - 0s 22us/sample - loss: 0.4404 - val_loss: 0.4529\n",
      "Epoch 24/100\n",
      "11610/11610 [==============================] - 0s 23us/sample - loss: 0.4366 - val_loss: 0.4528\n",
      "Epoch 25/100\n",
      "11610/11610 [==============================] - 0s 23us/sample - loss: 0.4344 - val_loss: 0.4479\n",
      "Epoch 26/100\n",
      "11610/11610 [==============================] - 0s 20us/sample - loss: 0.4323 - val_loss: 0.4456\n",
      "Epoch 27/100\n",
      "11610/11610 [==============================] - 0s 20us/sample - loss: 0.4297 - val_loss: 0.4448\n",
      "Epoch 28/100\n",
      "11610/11610 [==============================] - 0s 21us/sample - loss: 0.4269 - val_loss: 0.4410\n",
      "Epoch 29/100\n",
      "11610/11610 [==============================] - 0s 22us/sample - loss: 0.4246 - val_loss: 0.4413\n",
      "Epoch 30/100\n",
      "11610/11610 [==============================] - 0s 23us/sample - loss: 0.4224 - val_loss: 0.4369\n",
      "Epoch 31/100\n",
      "11610/11610 [==============================] - 0s 21us/sample - loss: 0.4211 - val_loss: 0.4359\n",
      "Epoch 32/100\n",
      "11610/11610 [==============================] - 0s 20us/sample - loss: 0.4197 - val_loss: 0.4347\n",
      "Epoch 33/100\n",
      "11610/11610 [==============================] - 0s 22us/sample - loss: 0.4180 - val_loss: 0.4327\n"
     ]
    }
   ],
   "source": [
    "history = model.fit(x_train_scaled, y_train, \n",
    "                    validation_data=(x_valid_scaled, y_valid), \n",
    "                    epochs=100, \n",
    "                    callbacks=callbacks)"
   ]
  },
  {
   "cell_type": "code",
   "execution_count": 8,
   "metadata": {},
   "outputs": [],
   "source": [
    "def plot_learning_curves(history):\n",
    "    pd.DataFrame(history.history).plot(figsize=(8, 5))\n",
    "    plt.grid(True)\n",
    "    plt.gca().set_ylim(0, 1)\n",
    "    plt.show()"
   ]
  },
  {
   "cell_type": "code",
   "execution_count": 9,
   "metadata": {},
   "outputs": [
    {
     "data": {
      "image/png": "[encoded data removed]",
      "text/plain": [
       "<Figure size 576x360 with 1 Axes>"
      ]
     },
     "metadata": {
      "needs_background": "light"
     },
     "output_type": "display_data"
    }
   ],
   "source": [
    "plot_learning_curves(history)"
   ]
  },
  {
   "cell_type": "code",
   "execution_count": 10,
   "metadata": {},
   "outputs": [
    {
     "name": "stdout",
     "output_type": "stream",
     "text": [
      "5160/5160 [==============================] - 0s 13us/sample - loss: 0.4379\n"
     ]
    },
    {
     "data": {
      "text/plain": [
       "0.43787663481956307"
      ]
     },
     "execution_count": 10,
     "metadata": {},
     "output_type": "execute_result"
    }
   ],
   "source": [
    "model.evaluate(x_test_scaled, y_test)"
   ]
  },
  {
   "cell_type": "code",
   "execution_count": null,
   "metadata": {},
   "outputs": [],
   "source": []
  }
 ],
 "metadata": {
  "kernelspec": {
   "display_name": "Python [conda env:py3tf20]",
   "language": "python",
   "name": "conda-env-py3tf20-py"
  },
  "language_info": {
   "codemirror_mode": {
    "name": "ipython",
    "version": 3
   },
   "file_extension": ".py",
   "mimetype": "text/x-python",
   "name": "python",
   "nbconvert_exporter": "python",
   "pygments_lexer": "ipython3",
   "version": "3.7.3"
  }
 },
 "nbformat": 4,
 "nbformat_minor": 2
}
